{
 "cells": [
  {
   "cell_type": "code",
   "execution_count": 4,
   "metadata": {
    "collapsed": true
   },
   "outputs": [
    {
     "name": "stdout",
     "output_type": "stream",
     "text": [
      "[ 2022-01-06 19:41:34.484044 ] searching any camera...\n",
      "camera_number 0 Find!\n",
      "camera_number 1 None\n",
      "camera_number 2 None\n",
      "camera_number 3 None\n",
      "camera_number 4 None\n",
      "camera_number 5 None\n",
      "camera_number 6 None\n",
      "camera_number 7 None\n",
      "camera_number 8 None\n",
      "camera_number 9 None\n",
      "接続されているカメラは 1 台です。\n"
     ]
    }
   ],
   "source": [
    "import cv2\n",
    "import datetime\n",
    "\n",
    "\n",
    "def check_camera_connection():\n",
    "    \"\"\"\n",
    "    Check the connection between any camera and the PC.\n",
    "\n",
    "    \"\"\"\n",
    "\n",
    "    print('[', datetime.datetime.now(), ']', 'searching any camera...')\n",
    "    true_camera_is = []  # 空の配列を用意\n",
    "\n",
    "    # カメラ番号を0～9まで変えて、COM_PORTに認識されているカメラを探す\n",
    "    for camera_number in range(0, 10):\n",
    "        cap = cv2.VideoCapture(camera_number)\n",
    "        ret, frame = cap.read()\n",
    "\n",
    "        if ret is True:\n",
    "            true_camera_is.append(camera_number)\n",
    "            print(\"camera_number\", camera_number, \"Find!\")\n",
    "\n",
    "        else:\n",
    "            print(\"camera_number\", camera_number, \"None\")\n",
    "    print(\"接続されているカメラは\", len(true_camera_is), \"台です。\")\n",
    "\n",
    "\n",
    "check_camera_connection()"
   ]
  },
  {
   "cell_type": "code",
   "execution_count": 5,
   "outputs": [],
   "source": [
    "import cv2\n",
    "\n",
    "# VideoCapture オブジェクトを取得します\n",
    "capture = cv2.VideoCapture(0)\n",
    "\n",
    "while(True):\n",
    "    ret, frame = capture.read()\n",
    "    # resize the window\n",
    "    window_size = (800, 600)\n",
    "    frame = cv2.resize(frame, window_size)\n",
    "\n",
    "    cv2.imshow('title',frame)\n",
    "    if cv2.waitKey(1) & 0xFF == ord('q'):\n",
    "        break\n",
    "\n",
    "capture.release()\n",
    "cv2.destroyAllWindows()"
   ],
   "metadata": {
    "collapsed": false,
    "pycharm": {
     "name": "#%%\n"
    }
   }
  },
  {
   "cell_type": "code",
   "execution_count": 11,
   "outputs": [],
   "source": [
    "cap = cv2.VideoCapture(0)\n",
    "ret, frame = cap.read()"
   ],
   "metadata": {
    "collapsed": false,
    "pycharm": {
     "name": "#%%\n"
    }
   }
  },
  {
   "cell_type": "code",
   "execution_count": 12,
   "outputs": [
    {
     "data": {
      "text/plain": "(480, 640)"
     },
     "execution_count": 12,
     "metadata": {},
     "output_type": "execute_result"
    }
   ],
   "source": [
    "import matplotlib.pyplot as plt\n",
    "\n",
    "frame = cv2.cvtColor(frame, cv2.COLOR_BGR2GRAY)\n",
    "frame.shape"
   ],
   "metadata": {
    "collapsed": false,
    "pycharm": {
     "name": "#%%\n"
    }
   }
  },
  {
   "cell_type": "code",
   "execution_count": 19,
   "outputs": [
    {
     "ename": "ValueError",
     "evalue": "sleep length must be non-negative",
     "output_type": "error",
     "traceback": [
      "\u001B[1;31m---------------------------------------------------------------------------\u001B[0m",
      "\u001B[1;31mValueError\u001B[0m                                Traceback (most recent call last)",
      "\u001B[1;32m~\\AppData\\Local\\Temp/ipykernel_7920/1989616799.py\u001B[0m in \u001B[0;36m<module>\u001B[1;34m\u001B[0m\n\u001B[0;32m     29\u001B[0m     \u001B[0mcv2\u001B[0m\u001B[1;33m.\u001B[0m\u001B[0mdestroyAllWindows\u001B[0m\u001B[1;33m(\u001B[0m\u001B[1;33m)\u001B[0m\u001B[1;33m\u001B[0m\u001B[1;33m\u001B[0m\u001B[0m\n\u001B[0;32m     30\u001B[0m     \u001B[1;32mreturn\u001B[0m \u001B[0mresult_data\u001B[0m\u001B[1;33m\u001B[0m\u001B[1;33m\u001B[0m\u001B[0m\n\u001B[1;32m---> 31\u001B[1;33m \u001B[0mans\u001B[0m \u001B[1;33m=\u001B[0m \u001B[0mImage_subtraction\u001B[0m\u001B[1;33m(\u001B[0m\u001B[0mtime_interval\u001B[0m\u001B[1;33m,\u001B[0m \u001B[0mimages\u001B[0m\u001B[1;33m)\u001B[0m\u001B[1;33m\u001B[0m\u001B[1;33m\u001B[0m\u001B[0m\n\u001B[0m",
      "\u001B[1;32m~\\AppData\\Local\\Temp/ipykernel_7920/1989616799.py\u001B[0m in \u001B[0;36mImage_subtraction\u001B[1;34m(time_interval, images)\u001B[0m\n\u001B[0;32m     24\u001B[0m         \u001B[0mwait_interval\u001B[0m \u001B[1;33m=\u001B[0m \u001B[0mtime_interval\u001B[0m\u001B[1;33m-\u001B[0m\u001B[1;33m(\u001B[0m\u001B[0mtime\u001B[0m\u001B[1;33m.\u001B[0m\u001B[0mtime\u001B[0m\u001B[1;33m(\u001B[0m\u001B[1;33m)\u001B[0m\u001B[1;33m-\u001B[0m\u001B[0mcurrent_time\u001B[0m\u001B[1;33m)\u001B[0m\u001B[1;33m\u001B[0m\u001B[1;33m\u001B[0m\u001B[0m\n\u001B[0;32m     25\u001B[0m         \u001B[0mcurrent_time\u001B[0m \u001B[1;33m=\u001B[0m \u001B[0mtime\u001B[0m\u001B[1;33m.\u001B[0m\u001B[0mtime\u001B[0m\u001B[1;33m(\u001B[0m\u001B[1;33m)\u001B[0m\u001B[1;33m\u001B[0m\u001B[1;33m\u001B[0m\u001B[0m\n\u001B[1;32m---> 26\u001B[1;33m         \u001B[0mtime\u001B[0m\u001B[1;33m.\u001B[0m\u001B[0msleep\u001B[0m\u001B[1;33m(\u001B[0m\u001B[0mwait_interval\u001B[0m\u001B[1;33m)\u001B[0m\u001B[1;33m\u001B[0m\u001B[1;33m\u001B[0m\u001B[0m\n\u001B[0m\u001B[0;32m     27\u001B[0m     \u001B[1;31m# quit capturing\u001B[0m\u001B[1;33m\u001B[0m\u001B[1;33m\u001B[0m\u001B[0m\n\u001B[0;32m     28\u001B[0m     \u001B[0mcap\u001B[0m\u001B[1;33m.\u001B[0m\u001B[0mrelease\u001B[0m\u001B[1;33m(\u001B[0m\u001B[1;33m)\u001B[0m\u001B[1;33m\u001B[0m\u001B[1;33m\u001B[0m\u001B[0m\n",
      "\u001B[1;31mValueError\u001B[0m: sleep length must be non-negative"
     ]
    }
   ],
   "source": [
    "import time\n",
    "import numpy as np\n",
    "\n",
    "#parameters\n",
    "time_interval = 5 #(sec)\n",
    "images = 100# Number of images\n",
    "window_size = (640, 480)\n",
    "pixel_threshold = 0.5\n",
    "\n",
    "def Image_subtraction(time_interval, images):\n",
    "    # current time\n",
    "    current_time = time.time()\n",
    "    init_image = np.zeros((480,640))\n",
    "    result_data = []\n",
    "    for i in range(images):\n",
    "        cap = cv2.VideoCapture(0)\n",
    "        _, image = cap.read()\n",
    "        image = cv2.cvtColor(image,\n",
    "                             cv2.COLOR_BGR2GRAY)\n",
    "        image = cv2.resize(image, window_size)\n",
    "        subtract = (init_image - image)/255\n",
    "        count = np.count_nonzero(subtract > pixel_threshold)\n",
    "        result_data.append(count)\n",
    "        wait_interval = time_interval-(time.time()-current_time)\n",
    "        current_time = time.time()\n",
    "        time.sleep(wait_interval)\n",
    "    # quit capturing\n",
    "    cap.release()\n",
    "    cv2.destroyAllWindows()\n",
    "    return result_data\n",
    "ans = Image_subtraction(time_interval, images)"
   ],
   "metadata": {
    "collapsed": false,
    "pycharm": {
     "name": "#%%\n"
    }
   }
  },
  {
   "cell_type": "code",
   "execution_count": 20,
   "outputs": [
    {
     "data": {
      "text/plain": "1641467503.938685"
     },
     "execution_count": 20,
     "metadata": {},
     "output_type": "execute_result"
    }
   ],
   "source": [
    "time.time()\n",
    "\n"
   ],
   "metadata": {
    "collapsed": false,
    "pycharm": {
     "name": "#%%\n"
    }
   }
  },
  {
   "cell_type": "code",
   "execution_count": 22,
   "outputs": [
    {
     "data": {
      "text/plain": "27.45919895172119"
     },
     "execution_count": 22,
     "metadata": {},
     "output_type": "execute_result"
    }
   ],
   "source": [
    "time.time() - 1641467503.938685"
   ],
   "metadata": {
    "collapsed": false,
    "pycharm": {
     "name": "#%%\n"
    }
   }
  },
  {
   "cell_type": "code",
   "execution_count": null,
   "outputs": [],
   "source": [],
   "metadata": {
    "collapsed": false,
    "pycharm": {
     "name": "#%%\n"
    }
   }
  }
 ],
 "metadata": {
  "kernelspec": {
   "name": "pycharm-13ee095a",
   "language": "python",
   "display_name": "PyCharm (Camera_control)"
  },
  "language_info": {
   "codemirror_mode": {
    "name": "ipython",
    "version": 2
   },
   "file_extension": ".py",
   "mimetype": "text/x-python",
   "name": "python",
   "nbconvert_exporter": "python",
   "pygments_lexer": "ipython2",
   "version": "2.7.6"
  }
 },
 "nbformat": 4,
 "nbformat_minor": 0
}